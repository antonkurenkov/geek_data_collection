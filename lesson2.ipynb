{
 "cells": [
  {
   "cell_type": "code",
   "execution_count": 15,
   "metadata": {},
   "outputs": [],
   "source": [
    "import requests\n",
    "from bs4 import BeautifulSoup as bs\n",
    "import pandas as pd"
   ]
  },
  {
   "cell_type": "code",
   "execution_count": 16,
   "metadata": {},
   "outputs": [],
   "source": [
    "class HeadHunter:\n",
    "\n",
    "    def __init__(self, key):\n",
    "        self.main_link = 'https://spb.hh.ru/search/vacancy/'\n",
    "        self.user_agent = {'User-agent': 'Mozilla/5.0'}\n",
    "        self.key = key\n",
    "\n",
    "        params = {'text': self.key}\n",
    "        response = bs(requests.get(self.main_link, headers=self.user_agent, params=params).text, 'lxml')\n",
    "        self.max_pages = int(response.findAll('a', {'data-qa': 'pager-page'})[-1].text)\n",
    "\n",
    "    def get_vacancies(self, page):\n",
    "        params = {'text': self.key, 'page': page}\n",
    "        response = requests.get(self.main_link, headers=self.user_agent, params=params).text\n",
    "        return bs(response, 'lxml').findAll('div', {'class': 'vacancy-serp-item'})\n",
    "\n",
    "\n",
    "    def get_attributes(self, vacancy):\n",
    "\n",
    "        name = vacancy.find('a', {'data-qa': 'vacancy-serp__vacancy-title'}).text\n",
    "        \n",
    "        employer_raw = vacancy.find('a', {'data-qa': 'vacancy-serp__vacancy-employer'})\n",
    "        employer = employer_raw.text if employer_raw else vacancy.find('div', {'class': 'vacancy-serp-item__meta-info'}).text\n",
    "\n",
    "        location = vacancy.find('span', {'data-qa': 'vacancy-serp__vacancy-address'}).text\n",
    "        link = vacancy.find('a', {'data-qa': 'vacancy-serp__vacancy-title'})['href']\n",
    "\n",
    "        salary_raw = vacancy.find('div', {'class': 'vacancy-serp-item__compensation'})\n",
    "        salary_dict = {'currency': None, 'min': None, 'max': None}\n",
    "\n",
    "        if salary_raw:\n",
    "            if '-' in salary_raw.text:\n",
    "                salary_dict = {\n",
    "                    'currency': salary_raw.text.split()[-1] if salary_raw.text.split()[-2] != 'бел.' else 'BYR',\n",
    "                    'min': int(''.join(salary_raw.text.split()[:-1]).split('-')[0]) if salary_raw.text.split()[-2] != 'бел.' else int(''.join(salary_raw.text.split()[:-2]).split('-')[0]),\n",
    "                    'max': int(''.join(salary_raw.text.split()[:-1]).split('-')[1]) if salary_raw.text.split()[-2] != 'бел.' else int(''.join(salary_raw.text.split()[:-2]).split('-')[1])\n",
    "                }\n",
    "            elif 'от' in salary_raw.text:\n",
    "                salary_dict = {\n",
    "                    'currency': salary_raw.text.split()[-1] if salary_raw.text.split()[-2] != 'бел.' else 'BYR',\n",
    "                    'min': int(''.join(salary_raw.text.split()[1:-1])) if salary_raw.text.split()[-2] != 'бел.' else int(''.join(salary_raw.text.split()[1:-2])),\n",
    "                    'max': None\n",
    "                }\n",
    "            elif 'до' in salary_raw.text:\n",
    "                salary_dict = {\n",
    "                    'currency': salary_raw.text.split()[-1] if salary_raw.text.split()[-2] != 'бел.' else 'BYR',\n",
    "                    'min': None,\n",
    "                    'max': int(''.join(salary_raw.text.split()[1:-1])) if salary_raw.text.split()[-2] != 'бел.' else int(''.join(salary_raw.text.split()[1:-2]))\n",
    "                }\n",
    "            \n",
    "        return {'placement': 'hh.ru', \n",
    "                'name': name, \n",
    "                'employer': employer,\n",
    "                'location': location,\n",
    "                'link': link, \n",
    "                'salary_currency': salary_dict['currency'],\n",
    "                'salary_min': salary_dict['min'],\n",
    "                'salary_max': salary_dict['max'],\n",
    "               }"
   ]
  },
  {
   "cell_type": "code",
   "execution_count": 17,
   "metadata": {},
   "outputs": [],
   "source": [
    "class SuperJob:\n",
    "\n",
    "    def __init__(self, key):\n",
    "        self.main_link = 'https://www.superjob.ru/vacancy/search/'\n",
    "        self.key = key\n",
    "        self.user_agent = {'User-agent': 'Mozilla/5.0'}\n",
    "\n",
    "        self.params = {'keywords': self.key}\n",
    "\n",
    "        response = bs(requests.get(self.main_link, headers=self.user_agent, params=self.params).text, 'lxml')\n",
    "        page_list = [page.text for page in response.findAll('a', {'class': '_3ze9n'})]\n",
    "        self.max_pages = int(page_list[-2]) if page_list else 1\n",
    "\n",
    "    def get_vacancies(self, page):\n",
    "        self.params['page'] = page\n",
    "        response = bs(requests.get(self.main_link, headers=self.user_agent, params=self.params).text, 'lxml')\n",
    "        return response.findAll('div', {'class': '_3zucV _2GPIV f-test-vacancy-item i6-sc _3VcZr'})\n",
    "\n",
    "    def get_attributes(self, vacancy):\n",
    "\n",
    "        name = vacancy.find('div', {'class': '_3mfro CuJz5 PlM3e _2JVkc _3LJqf'}).text\n",
    "        employer = vacancy.find('span', {'class': '_3mfro _3Fsn4 f-test-text-vacancy-item-company-name _9fXTd _2JVkc _3e53o _15msI'}).text\n",
    "        location = vacancy.find('span', {'class': '_3mfro f-test-text-company-item-location _9fXTd _2JVkc _3e53o'}).text.split(' • ')[1]\n",
    "        \n",
    "        link = 'https://www.superjob.ru' + vacancy.find('a', {'class': 'icMQ_'})['href']\n",
    "\n",
    "        salary_raw = vacancy.find('span', {'class': '_3mfro _2Wp8I f-test-text-company-item-salary PlM3e _2JVkc _2VHxz'}).text.replace('\\xa0', ' ')\n",
    "        salary_dict = {'currency': None, 'min': None, 'max': None}\n",
    "\n",
    "        if salary_raw != 'По договорённости':\n",
    "            if '-' in salary_raw:\n",
    "                salary_dict = {\n",
    "                    'currency': salary_raw.split()[-1],\n",
    "                    'min': int(''.join(salary_raw.split()[:-1]).split('-')[0]),\n",
    "                    'max': int(''.join(salary_raw.split()[:-1]).split('-')[1])\n",
    "                }\n",
    "            elif 'от' in salary_raw:\n",
    "                salary_dict = {\n",
    "                    'currency': salary_raw.split()[-1],\n",
    "                    'min': int(''.join(salary_raw.split()[1:3])),\n",
    "                    'max': None\n",
    "                }\n",
    "            elif 'до' in salary_raw:\n",
    "                salary_dict = {\n",
    "                    'currency': salary_raw.split()[-1],\n",
    "                    'min': None,\n",
    "                    'max': int(''.join(salary_raw.split()[1:3]))\n",
    "                }\n",
    "\n",
    "        return {'placement': 'superjob.ru', \n",
    "                'name': name,\n",
    "                'employer': employer,\n",
    "                'location': location,\n",
    "                'link': link, \n",
    "                'salary_currency': salary_dict['currency'],\n",
    "                'salary_min': salary_dict['min'],\n",
    "                'salary_max': salary_dict['max'],\n",
    "               }"
   ]
  },
  {
   "cell_type": "code",
   "execution_count": 18,
   "metadata": {},
   "outputs": [],
   "source": [
    "key = 'python'"
   ]
  },
  {
   "cell_type": "code",
   "execution_count": 19,
   "metadata": {},
   "outputs": [],
   "source": [
    "hh_df = pd.DataFrame()\n",
    "hh = HeadHunter(key)\n",
    "i = 1\n",
    "for page in range(hh.max_pages + 1):\n",
    "    vacancies_list = hh.get_vacancies(page)\n",
    "    for vacancy in vacancies_list:\n",
    "        hh_df = hh_df.append(pd.DataFrame(hh.get_attributes(vacancy), index=[i]))\n",
    "        i += 1"
   ]
  },
  {
   "cell_type": "code",
   "execution_count": 20,
   "metadata": {},
   "outputs": [
    {
     "data": {
      "text/plain": [
       "руб.    623\n",
       "USD      44\n",
       "EUR      23\n",
       "KZT      13\n",
       "грн.      2\n",
       "BYR       1\n",
       "Name: salary_currency, dtype: int64"
      ]
     },
     "execution_count": 20,
     "metadata": {},
     "output_type": "execute_result"
    }
   ],
   "source": [
    "hh_df['salary_currency'].value_counts()"
   ]
  },
  {
   "cell_type": "code",
   "execution_count": 21,
   "metadata": {},
   "outputs": [
    {
     "data": {
      "text/plain": [
       "RUR    623\n",
       "USD     44\n",
       "EUR     23\n",
       "KZT     13\n",
       "UAH      2\n",
       "BYR      1\n",
       "Name: salary_currency, dtype: int64"
      ]
     },
     "execution_count": 21,
     "metadata": {},
     "output_type": "execute_result"
    }
   ],
   "source": [
    "hh_df.loc[hh_df['salary_currency'] == 'руб.', 'salary_currency'] = 'RUR'\n",
    "hh_df.loc[hh_df['salary_currency'] == 'грн.', 'salary_currency'] = 'UAH'\n",
    "hh_df.loc[hh_df['salary_currency'] == 'сум', 'salary_currency'] = 'UZS'\n",
    "\n",
    "hh_df['salary_currency'].value_counts()"
   ]
  },
  {
   "cell_type": "code",
   "execution_count": 22,
   "metadata": {},
   "outputs": [],
   "source": [
    "sj_df = pd.DataFrame()\n",
    "sj = SuperJob(key)\n",
    "i = 1\n",
    "for page in range(1, sj.max_pages + 1):\n",
    "    vacancies_list = sj.get_vacancies(page)\n",
    "    for vacancy in vacancies_list:\n",
    "        sj_df = sj_df.append(pd.DataFrame(sj.get_attributes(vacancy), index=[i]))\n",
    "        i += 1"
   ]
  },
  {
   "cell_type": "code",
   "execution_count": 23,
   "metadata": {},
   "outputs": [
    {
     "data": {
      "text/plain": [
       "₽    11\n",
       "Name: salary_currency, dtype: int64"
      ]
     },
     "execution_count": 23,
     "metadata": {},
     "output_type": "execute_result"
    }
   ],
   "source": [
    "sj_df['salary_currency'].value_counts()"
   ]
  },
  {
   "cell_type": "code",
   "execution_count": 24,
   "metadata": {},
   "outputs": [
    {
     "data": {
      "text/plain": [
       "RUR    11\n",
       "Name: salary_currency, dtype: int64"
      ]
     },
     "execution_count": 24,
     "metadata": {},
     "output_type": "execute_result"
    }
   ],
   "source": [
    "sj_df.loc[sj_df['salary_currency'] == '₽', 'salary_currency'] = 'RUR'\n",
    "sj_df['salary_currency'].value_counts()"
   ]
  },
  {
   "cell_type": "code",
   "execution_count": 25,
   "metadata": {},
   "outputs": [
    {
     "data": {
      "text/plain": [
       "(2030, 8)"
      ]
     },
     "execution_count": 25,
     "metadata": {},
     "output_type": "execute_result"
    }
   ],
   "source": [
    "multi_df = hh_df.append(sj_df)\n",
    "multi_df.shape"
   ]
  },
  {
   "cell_type": "code",
   "execution_count": 26,
   "metadata": {},
   "outputs": [
    {
     "data": {
      "text/html": [
       "<div>\n",
       "<style scoped>\n",
       "    .dataframe tbody tr th:only-of-type {\n",
       "        vertical-align: middle;\n",
       "    }\n",
       "\n",
       "    .dataframe tbody tr th {\n",
       "        vertical-align: top;\n",
       "    }\n",
       "\n",
       "    .dataframe thead th {\n",
       "        text-align: right;\n",
       "    }\n",
       "</style>\n",
       "<table border=\"1\" class=\"dataframe\">\n",
       "  <thead>\n",
       "    <tr style=\"text-align: right;\">\n",
       "      <th></th>\n",
       "      <th>placement</th>\n",
       "      <th>name</th>\n",
       "      <th>employer</th>\n",
       "      <th>location</th>\n",
       "      <th>link</th>\n",
       "      <th>salary_currency</th>\n",
       "      <th>salary_min</th>\n",
       "      <th>salary_max</th>\n",
       "    </tr>\n",
       "  </thead>\n",
       "  <tbody>\n",
       "    <tr>\n",
       "      <th>1</th>\n",
       "      <td>hh.ru</td>\n",
       "      <td>Python Developer</td>\n",
       "      <td>iTechArt Group</td>\n",
       "      <td>Минск, Институт Культуры</td>\n",
       "      <td>https://spb.hh.ru/vacancy/33738779?query=python</td>\n",
       "      <td>None</td>\n",
       "      <td>None</td>\n",
       "      <td>None</td>\n",
       "    </tr>\n",
       "    <tr>\n",
       "      <th>2</th>\n",
       "      <td>hh.ru</td>\n",
       "      <td>Data Scientist</td>\n",
       "      <td>HeadHunter::Analytics/Data Science</td>\n",
       "      <td>Москва, Алексеевская</td>\n",
       "      <td>https://spb.hh.ru/vacancy/35011897?query=python</td>\n",
       "      <td>RUR</td>\n",
       "      <td>200000</td>\n",
       "      <td>None</td>\n",
       "    </tr>\n",
       "    <tr>\n",
       "      <th>3</th>\n",
       "      <td>hh.ru</td>\n",
       "      <td>Junior Python Developer (Mogilev)</td>\n",
       "      <td>iTechArt Group</td>\n",
       "      <td>Могилев</td>\n",
       "      <td>https://spb.hh.ru/vacancy/35581311?query=python</td>\n",
       "      <td>None</td>\n",
       "      <td>None</td>\n",
       "      <td>None</td>\n",
       "    </tr>\n",
       "    <tr>\n",
       "      <th>4</th>\n",
       "      <td>hh.ru</td>\n",
       "      <td>Программист Python/Django</td>\n",
       "      <td>ТОО BaiBak Exust</td>\n",
       "      <td>Алматы</td>\n",
       "      <td>https://spb.hh.ru/vacancy/35554799?query=python</td>\n",
       "      <td>None</td>\n",
       "      <td>None</td>\n",
       "      <td>None</td>\n",
       "    </tr>\n",
       "    <tr>\n",
       "      <th>5</th>\n",
       "      <td>hh.ru</td>\n",
       "      <td>Python-разработчик в Процессы бэк-офиса</td>\n",
       "      <td>Яндекс</td>\n",
       "      <td>Москва</td>\n",
       "      <td>https://spb.hh.ru/vacancy/34950926?query=python</td>\n",
       "      <td>None</td>\n",
       "      <td>None</td>\n",
       "      <td>None</td>\n",
       "    </tr>\n",
       "  </tbody>\n",
       "</table>\n",
       "</div>"
      ],
      "text/plain": [
       "  placement                                     name  \\\n",
       "1     hh.ru                         Python Developer   \n",
       "2     hh.ru                           Data Scientist   \n",
       "3     hh.ru        Junior Python Developer (Mogilev)   \n",
       "4     hh.ru                Программист Python/Django   \n",
       "5     hh.ru  Python-разработчик в Процессы бэк-офиса   \n",
       "\n",
       "                              employer                  location  \\\n",
       "1                       iTechArt Group  Минск, Институт Культуры   \n",
       "2   HeadHunter::Analytics/Data Science      Москва, Алексеевская   \n",
       "3                       iTechArt Group                   Могилев   \n",
       "4                     ТОО BaiBak Exust                    Алматы   \n",
       "5                               Яндекс                    Москва   \n",
       "\n",
       "                                              link salary_currency salary_min  \\\n",
       "1  https://spb.hh.ru/vacancy/33738779?query=python            None       None   \n",
       "2  https://spb.hh.ru/vacancy/35011897?query=python             RUR     200000   \n",
       "3  https://spb.hh.ru/vacancy/35581311?query=python            None       None   \n",
       "4  https://spb.hh.ru/vacancy/35554799?query=python            None       None   \n",
       "5  https://spb.hh.ru/vacancy/34950926?query=python            None       None   \n",
       "\n",
       "  salary_max  \n",
       "1       None  \n",
       "2       None  \n",
       "3       None  \n",
       "4       None  \n",
       "5       None  "
      ]
     },
     "execution_count": 26,
     "metadata": {},
     "output_type": "execute_result"
    }
   ],
   "source": [
    "multi_df.head()"
   ]
  },
  {
   "cell_type": "code",
   "execution_count": 27,
   "metadata": {},
   "outputs": [],
   "source": [
    "multi_df.to_csv(f'results/vacancies_{key}.csv', index=False)"
   ]
  }
 ],
 "metadata": {
  "kernelspec": {
   "display_name": "Python 3",
   "language": "python",
   "name": "python3"
  },
  "language_info": {
   "codemirror_mode": {
    "name": "ipython",
    "version": 3
   },
   "file_extension": ".py",
   "mimetype": "text/x-python",
   "name": "python",
   "nbconvert_exporter": "python",
   "pygments_lexer": "ipython3",
   "version": "3.7.4"
  }
 },
 "nbformat": 4,
 "nbformat_minor": 2
}
