{
 "cells": [
  {
   "cell_type": "markdown",
   "metadata": {},
   "source": [
    "1) Развернуть у себя на компьютере/виртуальной машине/хостинге MongoDB и реализовать функцию, записывающую собранные вакансии в созданную БД\n",
    "\n",
    "2) Написать функцию, которая производит поиск и выводит на экран вакансии с заработной платой больше введенной суммы\n",
    "\n",
    "3*)Написать функцию, которая будет добавлять в вашу базу данных только новые вакансии с сайта"
   ]
  },
  {
   "cell_type": "code",
   "execution_count": 66,
   "metadata": {},
   "outputs": [],
   "source": [
    "import requests\n",
    "from bs4 import BeautifulSoup as bs\n",
    "from pymongo import MongoClient\n",
    "from pprint import pprint\n",
    "\n",
    "import warnings\n",
    "warnings.filterwarnings('ignore')"
   ]
  },
  {
   "cell_type": "code",
   "execution_count": 67,
   "metadata": {},
   "outputs": [],
   "source": [
    "class HeadHunter:\n",
    "\n",
    "    def __init__(self, key):\n",
    "        self.main_link = 'https://spb.hh.ru/search/vacancy/'\n",
    "        self.user_agent = {'User-agent': 'Mozilla/5.0'}\n",
    "        self.key = key\n",
    "\n",
    "        params = {'text': self.key}\n",
    "        response = bs(requests.get(self.main_link, headers=self.user_agent, params=params).text, 'lxml')\n",
    "        self.max_pages = int(response.findAll('a', {'data-qa': 'pager-page'})[-1].text)\n",
    "\n",
    "    def get_vacancies(self, page):\n",
    "        params = {'text': self.key, 'page': page}\n",
    "        response = requests.get(self.main_link, headers=self.user_agent, params=params).text\n",
    "        return bs(response, 'lxml').findAll('div', {'class': 'vacancy-serp-item'})\n",
    "\n",
    "\n",
    "    def get_attributes(self, vacancy):\n",
    "\n",
    "        name = vacancy.find('a', {'data-qa': 'vacancy-serp__vacancy-title'}).text\n",
    "        \n",
    "        employer_raw = vacancy.find('a', {'data-qa': 'vacancy-serp__vacancy-employer'})\n",
    "        employer = employer_raw.text if employer_raw else vacancy.find('div', {'class': 'vacancy-serp-item__meta-info'}).text\n",
    "\n",
    "        location = vacancy.find('span', {'data-qa': 'vacancy-serp__vacancy-address'}).text\n",
    "        link = vacancy.find('a', {'data-qa': 'vacancy-serp__vacancy-title'})['href']\n",
    "\n",
    "        salary_raw = vacancy.find('div', {'class': 'vacancy-serp-item__compensation'})\n",
    "        salary_dict = {'currency': None, 'min': None, 'max': None}\n",
    "\n",
    "        if salary_raw:\n",
    "            if '-' in salary_raw.text:\n",
    "                salary_dict = {\n",
    "                    'currency': salary_raw.text.split()[-1] if salary_raw.text.split()[-2] != 'бел.' else 'BYR',\n",
    "                    'min': int(''.join(salary_raw.text.split()[:-1]).split('-')[0]) if salary_raw.text.split()[-2] != 'бел.' else int(''.join(salary_raw.text.split()[:-2]).split('-')[0]),\n",
    "                    'max': int(''.join(salary_raw.text.split()[:-1]).split('-')[1]) if salary_raw.text.split()[-2] != 'бел.' else int(''.join(salary_raw.text.split()[:-2]).split('-')[1])\n",
    "                }\n",
    "            elif 'от' in salary_raw.text:\n",
    "                salary_dict = {\n",
    "                    'currency': salary_raw.text.split()[-1] if salary_raw.text.split()[-2] != 'бел.' else 'BYR',\n",
    "                    'min': int(''.join(salary_raw.text.split()[1:-1])) if salary_raw.text.split()[-2] != 'бел.' else int(''.join(salary_raw.text.split()[1:-2])),\n",
    "                    'max': None\n",
    "                }\n",
    "            elif 'до' in salary_raw.text:\n",
    "                salary_dict = {\n",
    "                    'currency': salary_raw.text.split()[-1] if salary_raw.text.split()[-2] != 'бел.' else 'BYR',\n",
    "                    'min': None,\n",
    "                    'max': int(''.join(salary_raw.text.split()[1:-1])) if salary_raw.text.split()[-2] != 'бел.' else int(''.join(salary_raw.text.split()[1:-2]))\n",
    "                }\n",
    "            \n",
    "        return {'placement': 'hh.ru', \n",
    "                'name': name, \n",
    "                'employer': employer,\n",
    "                'location': location,\n",
    "                'link': link, \n",
    "                'salary_currency': salary_dict['currency'],\n",
    "                'salary_min': salary_dict['min'],\n",
    "                'salary_max': salary_dict['max'],\n",
    "               }"
   ]
  },
  {
   "cell_type": "code",
   "execution_count": 68,
   "metadata": {},
   "outputs": [],
   "source": [
    "class SuperJob:\n",
    "\n",
    "    def __init__(self, key):\n",
    "        self.main_link = 'https://www.superjob.ru/vacancy/search/'\n",
    "        self.key = key\n",
    "        self.user_agent = {'User-agent': 'Mozilla/5.0'}\n",
    "\n",
    "        self.params = {'keywords': self.key}\n",
    "\n",
    "        response = bs(requests.get(self.main_link, headers=self.user_agent, params=self.params).text, 'lxml')\n",
    "        page_list = [page.text for page in response.findAll('a', {'class': '_3ze9n'})]\n",
    "        self.max_pages = int(page_list[-2]) if page_list else 1\n",
    "\n",
    "    def get_vacancies(self, page):\n",
    "        self.params['page'] = page\n",
    "        response = bs(requests.get(self.main_link, headers=self.user_agent, params=self.params).text, 'lxml')\n",
    "        return response.findAll('div', {'class': '_3zucV _2GPIV f-test-vacancy-item i6-sc _3VcZr'})\n",
    "\n",
    "    def get_attributes(self, vacancy):\n",
    "\n",
    "        name = vacancy.find('div', {'class': '_3mfro CuJz5 PlM3e _2JVkc _3LJqf'}).text\n",
    "        \n",
    "        employer = vacancy.find('span', {'class': 'f-test-text-vacancy-item-company-name'}).text    \n",
    "        location = vacancy.find('span', {'class': 'f-test-text-company-item-location'}).text.split(' • ')[1]\n",
    "        \n",
    "        link = 'https://www.superjob.ru' + vacancy.find('a', {'class': 'icMQ_'})['href']\n",
    "\n",
    "        salary_raw = vacancy.find('span', {'class': 'f-test-text-company-item-salary'}).text.replace('\\xa0', ' ')\n",
    "        salary_dict = {'currency': None, 'min': None, 'max': None}\n",
    "\n",
    "        if salary_raw != 'По договорённости':\n",
    "            if '-' in salary_raw:\n",
    "                salary_dict = {\n",
    "                    'currency': salary_raw.split()[-1],\n",
    "                    'min': int(''.join(salary_raw.split()[:-1]).split('-')[0]),\n",
    "                    'max': int(''.join(salary_raw.split()[:-1]).split('-')[1])\n",
    "                }\n",
    "            elif 'от' in salary_raw:\n",
    "                salary_dict = {\n",
    "                    'currency': salary_raw.split()[-1],\n",
    "                    'min': int(''.join(salary_raw.split()[1:3])),\n",
    "                    'max': None\n",
    "                }\n",
    "            elif 'до' in salary_raw:\n",
    "                salary_dict = {\n",
    "                    'currency': salary_raw.split()[-1],\n",
    "                    'min': None,\n",
    "                    'max': int(''.join(salary_raw.split()[1:3]))\n",
    "                }\n",
    "\n",
    "        return {'placement': 'superjob.ru', \n",
    "                'name': name,\n",
    "                'employer': employer,\n",
    "                'location': location,\n",
    "                'link': link, \n",
    "                'salary_currency': salary_dict['currency'],\n",
    "                'salary_min': salary_dict['min'],\n",
    "                'salary_max': salary_dict['max'],\n",
    "               }"
   ]
  },
  {
   "cell_type": "code",
   "execution_count": 69,
   "metadata": {},
   "outputs": [],
   "source": [
    "class Mongo:\n",
    "\n",
    "    def __init__(self, blank=False):\n",
    "        client = MongoClient('mongodb://127.0.0.1:27017')\n",
    "        self.items = client['vacancies'].items\n",
    "        if blank:\n",
    "            self.items.delete_many({})\n",
    "\n",
    "    def insert(self, entity):\n",
    "        self.items.insert_one(entity)\n",
    "\n",
    "    def head(self, num):\n",
    "        objects = self.items.find().limit(num)\n",
    "        for item in objects:\n",
    "            pprint(item)\n",
    "\n",
    "    def contains(self, item):\n",
    "        return self.items.find(item).count()\n",
    "    \n",
    "    def prettify(self):\n",
    "        self.items.update_many({'salary_currency': 'грн.'}, {\"$set\": {'salary_currency': 'UAH'}})\n",
    "        self.items.update_many({'salary_currency': 'руб.'}, {\"$set\": {'salary_currency': 'RUR'}})\n",
    "        self.items.update_many({'salary_currency': '₽'}, {\"$set\": {'salary_currency': 'RUR'}})\n",
    "        self.items.update_many({'salary_currency': 'сум'}, {\"$set\": {'salary_currency': 'UZS'}})\n",
    "        currencies = self.items.distinct('salary_currency')\n",
    "        print(f'Currencies: {list(filter(None, currencies))}')\n",
    "    \n",
    "    def salary_greater_then(self, amount, currency=None):\n",
    "        if currency:\n",
    "            return self.items.find({\n",
    "                '$and': [{'salary_currency': currency}, \n",
    "                               {'$or': [\n",
    "                                   {'salary_min':{'$gt': amount}}, \n",
    "                                   {'salary_max':{'$gt': amount}}]}]})\n",
    "        else:\n",
    "            return self.items.find({'$or': [{'salary_min':{'$gt': amount}}, {'salary_max':{'$gt': amount}}]})\n",
    "        \n",
    "            "
   ]
  },
  {
   "cell_type": "code",
   "execution_count": 70,
   "metadata": {},
   "outputs": [],
   "source": [
    "class Collector:\n",
    "\n",
    "    def __init__(self, parser, db, key):\n",
    "        self.key = key\n",
    "        self.parser = parser(key)\n",
    "        self.db = db\n",
    "\n",
    "    def collect(self):\n",
    "        for page in range(self.parser.max_pages + 1):\n",
    "            vacancies_list = self.parser.get_vacancies(page)\n",
    "            for vacancy in vacancies_list:\n",
    "                item = self.parser.get_attributes(vacancy)\n",
    "                if not self.db.contains(item):\n",
    "                    self.db.insert(item)"
   ]
  },
  {
   "cell_type": "code",
   "execution_count": 71,
   "metadata": {},
   "outputs": [],
   "source": [
    "key = 'пекарь'\n",
    "mongo = Mongo(blank=True)\n",
    "\n",
    "for parser in HeadHunter, SuperJob:\n",
    "    collector = Collector(parser=parser, db=mongo, key=key)\n",
    "    collector.collect()"
   ]
  },
  {
   "cell_type": "code",
   "execution_count": 72,
   "metadata": {},
   "outputs": [
    {
     "data": {
      "text/plain": [
       "2062"
      ]
     },
     "execution_count": 72,
     "metadata": {},
     "output_type": "execute_result"
    }
   ],
   "source": [
    "mongo.items.count()"
   ]
  },
  {
   "cell_type": "code",
   "execution_count": 73,
   "metadata": {},
   "outputs": [
    {
     "name": "stdout",
     "output_type": "stream",
     "text": [
      "{'_id': ObjectId('5e3ae6f0216d2e5baf2acaf7'),\n",
      " 'employer': ' Перекресток',\n",
      " 'link': 'https://spb.hh.ru/vacancy/35523841?query=%D0%BF%D0%B5%D0%BA%D0%B0%D1%80%D1%8C',\n",
      " 'location': 'Дедовск',\n",
      " 'name': 'Пекарь',\n",
      " 'placement': 'hh.ru',\n",
      " 'salary_currency': None,\n",
      " 'salary_max': None,\n",
      " 'salary_min': None}\n"
     ]
    }
   ],
   "source": [
    "mongo.head(1)"
   ]
  },
  {
   "cell_type": "code",
   "execution_count": 74,
   "metadata": {},
   "outputs": [
    {
     "name": "stdout",
     "output_type": "stream",
     "text": [
      "Currencies: ['BYR', 'KZT', 'RUR', 'UAH', 'USD', 'UZS']\n"
     ]
    }
   ],
   "source": [
    "mongo.prettify()"
   ]
  },
  {
   "cell_type": "code",
   "execution_count": 75,
   "metadata": {},
   "outputs": [
    {
     "data": {
      "text/plain": [
       "195"
      ]
     },
     "execution_count": 75,
     "metadata": {},
     "output_type": "execute_result"
    }
   ],
   "source": [
    "max_salaries = mongo.salary_greater_then(50000, currency='RUR')\n",
    "max_salaries.count()"
   ]
  },
  {
   "cell_type": "code",
   "execution_count": 76,
   "metadata": {},
   "outputs": [
    {
     "name": "stdout",
     "output_type": "stream",
     "text": [
      "{'_id': ObjectId('5e3ae6f1216d2e5baf2acb0c'),\n",
      " 'employer': 'ООО ЛавкаЛавка Рестораны',\n",
      " 'link': 'https://spb.hh.ru/vacancy/35514576?query=%D0%BF%D0%B5%D0%BA%D0%B0%D1%80%D1%8C',\n",
      " 'location': 'Москва',\n",
      " 'name': 'Пекарь',\n",
      " 'placement': 'hh.ru',\n",
      " 'salary_currency': 'RUR',\n",
      " 'salary_max': 52900,\n",
      " 'salary_min': 42000}\n",
      "\n",
      "{'_id': ObjectId('5e3ae6f1216d2e5baf2acb0f'),\n",
      " 'employer': ' КрафтенБург',\n",
      " 'link': 'https://spb.hh.ru/vacancy/35298666?query=%D0%BF%D0%B5%D0%BA%D0%B0%D1%80%D1%8C',\n",
      " 'location': 'Москва',\n",
      " 'name': 'Пекарь-кондитер',\n",
      " 'placement': 'hh.ru',\n",
      " 'salary_currency': 'RUR',\n",
      " 'salary_max': 70000,\n",
      " 'salary_min': 60000}\n",
      "\n",
      "{'_id': ObjectId('5e3ae6f1216d2e5baf2acb11'),\n",
      " 'employer': ' Булочные Все Дома',\n",
      " 'link': 'https://spb.hh.ru/vacancy/35294967?query=%D0%BF%D0%B5%D0%BA%D0%B0%D1%80%D1%8C',\n",
      " 'location': 'Санкт-Петербург',\n",
      " 'name': 'Продавец-пекарь',\n",
      " 'placement': 'hh.ru',\n",
      " 'salary_currency': 'RUR',\n",
      " 'salary_max': 52000,\n",
      " 'salary_min': 35000}\n",
      "\n"
     ]
    }
   ],
   "source": [
    "for item in max_salaries.limit(3):\n",
    "    pprint(item)\n",
    "    print()"
   ]
  }
 ],
 "metadata": {
  "kernelspec": {
   "display_name": "Python 3",
   "language": "python",
   "name": "python3"
  },
  "language_info": {
   "codemirror_mode": {
    "name": "ipython",
    "version": 3
   },
   "file_extension": ".py",
   "mimetype": "text/x-python",
   "name": "python",
   "nbconvert_exporter": "python",
   "pygments_lexer": "ipython3",
   "version": "3.7.4"
  }
 },
 "nbformat": 4,
 "nbformat_minor": 2
}
