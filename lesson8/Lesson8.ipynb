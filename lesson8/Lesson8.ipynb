{
 "cells": [
  {
   "cell_type": "code",
   "execution_count": 1,
   "metadata": {},
   "outputs": [],
   "source": [
    "import os\n",
    "import pandas as pd\n",
    "import matplotlib.pyplot as plt"
   ]
  },
  {
   "cell_type": "code",
   "execution_count": 2,
   "metadata": {},
   "outputs": [
    {
     "data": {
      "text/plain": [
       "['data/.DS_Store', 'data/opendata.csv']"
      ]
     },
     "execution_count": 2,
     "metadata": {},
     "output_type": "execute_result"
    }
   ],
   "source": [
    "files = [os.path.join('data', item) for item in os.listdir(f'data')]\n",
    "files"
   ]
  },
  {
   "cell_type": "code",
   "execution_count": 3,
   "metadata": {},
   "outputs": [
    {
     "data": {
      "text/html": [
       "<div>\n",
       "<style scoped>\n",
       "    .dataframe tbody tr th:only-of-type {\n",
       "        vertical-align: middle;\n",
       "    }\n",
       "\n",
       "    .dataframe tbody tr th {\n",
       "        vertical-align: top;\n",
       "    }\n",
       "\n",
       "    .dataframe thead th {\n",
       "        text-align: right;\n",
       "    }\n",
       "</style>\n",
       "<table border=\"1\" class=\"dataframe\">\n",
       "  <thead>\n",
       "    <tr style=\"text-align: right;\">\n",
       "      <th></th>\n",
       "      <th>name</th>\n",
       "      <th>region</th>\n",
       "      <th>date</th>\n",
       "      <th>value</th>\n",
       "    </tr>\n",
       "  </thead>\n",
       "  <tbody>\n",
       "    <tr>\n",
       "      <th>0</th>\n",
       "      <td>Количество заявок на потребительские кредиты</td>\n",
       "      <td>Россия</td>\n",
       "      <td>2013-01-15</td>\n",
       "      <td>571147</td>\n",
       "    </tr>\n",
       "    <tr>\n",
       "      <th>1</th>\n",
       "      <td>Количество заявок на потребительские кредиты</td>\n",
       "      <td>Россия</td>\n",
       "      <td>2013-02-15</td>\n",
       "      <td>504508</td>\n",
       "    </tr>\n",
       "    <tr>\n",
       "      <th>2</th>\n",
       "      <td>Количество заявок на потребительские кредиты</td>\n",
       "      <td>Россия</td>\n",
       "      <td>2013-03-15</td>\n",
       "      <td>628803</td>\n",
       "    </tr>\n",
       "    <tr>\n",
       "      <th>3</th>\n",
       "      <td>Количество заявок на потребительские кредиты</td>\n",
       "      <td>Россия</td>\n",
       "      <td>2013-04-15</td>\n",
       "      <td>836054</td>\n",
       "    </tr>\n",
       "    <tr>\n",
       "      <th>4</th>\n",
       "      <td>Количество заявок на потребительские кредиты</td>\n",
       "      <td>Россия</td>\n",
       "      <td>2013-05-15</td>\n",
       "      <td>867235</td>\n",
       "    </tr>\n",
       "  </tbody>\n",
       "</table>\n",
       "</div>"
      ],
      "text/plain": [
       "                                           name  region        date   value\n",
       "0  Количество заявок на потребительские кредиты  Россия  2013-01-15  571147\n",
       "1  Количество заявок на потребительские кредиты  Россия  2013-02-15  504508\n",
       "2  Количество заявок на потребительские кредиты  Россия  2013-03-15  628803\n",
       "3  Количество заявок на потребительские кредиты  Россия  2013-04-15  836054\n",
       "4  Количество заявок на потребительские кредиты  Россия  2013-05-15  867235"
      ]
     },
     "execution_count": 3,
     "metadata": {},
     "output_type": "execute_result"
    }
   ],
   "source": [
    "data = pd.read_csv(files[1], encoding='windows-1251')\n",
    "data.head()"
   ]
  },
  {
   "cell_type": "code",
   "execution_count": 4,
   "metadata": {},
   "outputs": [
    {
     "data": {
      "text/html": [
       "<div>\n",
       "<style scoped>\n",
       "    .dataframe tbody tr th:only-of-type {\n",
       "        vertical-align: middle;\n",
       "    }\n",
       "\n",
       "    .dataframe tbody tr th {\n",
       "        vertical-align: top;\n",
       "    }\n",
       "\n",
       "    .dataframe thead th {\n",
       "        text-align: right;\n",
       "    }\n",
       "</style>\n",
       "<table border=\"1\" class=\"dataframe\">\n",
       "  <thead>\n",
       "    <tr style=\"text-align: right;\">\n",
       "      <th></th>\n",
       "      <th>value</th>\n",
       "    </tr>\n",
       "  </thead>\n",
       "  <tbody>\n",
       "    <tr>\n",
       "      <th>count</th>\n",
       "      <td>7.484200e+04</td>\n",
       "    </tr>\n",
       "    <tr>\n",
       "      <th>mean</th>\n",
       "      <td>2.018732e+05</td>\n",
       "    </tr>\n",
       "    <tr>\n",
       "      <th>std</th>\n",
       "      <td>4.527957e+05</td>\n",
       "    </tr>\n",
       "    <tr>\n",
       "      <th>min</th>\n",
       "      <td>1.000000e+00</td>\n",
       "    </tr>\n",
       "    <tr>\n",
       "      <th>25%</th>\n",
       "      <td>1.412000e+03</td>\n",
       "    </tr>\n",
       "    <tr>\n",
       "      <th>50%</th>\n",
       "      <td>1.395050e+04</td>\n",
       "    </tr>\n",
       "    <tr>\n",
       "      <th>75%</th>\n",
       "      <td>1.992958e+05</td>\n",
       "    </tr>\n",
       "    <tr>\n",
       "      <th>max</th>\n",
       "      <td>6.631650e+06</td>\n",
       "    </tr>\n",
       "  </tbody>\n",
       "</table>\n",
       "</div>"
      ],
      "text/plain": [
       "              value\n",
       "count  7.484200e+04\n",
       "mean   2.018732e+05\n",
       "std    4.527957e+05\n",
       "min    1.000000e+00\n",
       "25%    1.412000e+03\n",
       "50%    1.395050e+04\n",
       "75%    1.992958e+05\n",
       "max    6.631650e+06"
      ]
     },
     "execution_count": 4,
     "metadata": {},
     "output_type": "execute_result"
    }
   ],
   "source": [
    "data.describe()"
   ]
  },
  {
   "cell_type": "code",
   "execution_count": 5,
   "metadata": {},
   "outputs": [
    {
     "name": "stdout",
     "output_type": "stream",
     "text": [
      "<class 'pandas.core.frame.DataFrame'>\n",
      "RangeIndex: 74842 entries, 0 to 74841\n",
      "Data columns (total 4 columns):\n",
      "name      74842 non-null object\n",
      "region    74842 non-null object\n",
      "date      74842 non-null object\n",
      "value     74842 non-null int64\n",
      "dtypes: int64(1), object(3)\n",
      "memory usage: 2.3+ MB\n"
     ]
    }
   ],
   "source": [
    "data.info()"
   ]
  },
  {
   "cell_type": "code",
   "execution_count": 6,
   "metadata": {},
   "outputs": [
    {
     "data": {
      "text/plain": [
       "array(['Количество заявок на потребительские кредиты',\n",
       "       'Средняя сумма заявки на потребительский кредит',\n",
       "       'Количество заявок на ипотечные кредиты',\n",
       "       'Средняя сумма заявки на ипотечный кредит',\n",
       "       'Количество новых депозитов', 'Средняя сумма нового депозита',\n",
       "       'Средняя зарплата', 'Средняя пенсия',\n",
       "       'В среднем руб. на текущем счете на человека',\n",
       "       'В среднем депозитов в руб. на человека',\n",
       "       'Средние расходы по картам', 'Средний чек в формате Фастфуд',\n",
       "       'Средний чек в формате Ресторан',\n",
       "       'Средние траты в ресторане фастфуд', 'Средние траты в ресторане'],\n",
       "      dtype=object)"
      ]
     },
     "execution_count": 6,
     "metadata": {},
     "output_type": "execute_result"
    }
   ],
   "source": [
    "data['name'].unique()"
   ]
  },
  {
   "cell_type": "code",
   "execution_count": 7,
   "metadata": {},
   "outputs": [
    {
     "data": {
      "text/html": [
       "<div>\n",
       "<style scoped>\n",
       "    .dataframe tbody tr th:only-of-type {\n",
       "        vertical-align: middle;\n",
       "    }\n",
       "\n",
       "    .dataframe tbody tr th {\n",
       "        vertical-align: top;\n",
       "    }\n",
       "\n",
       "    .dataframe thead th {\n",
       "        text-align: right;\n",
       "    }\n",
       "</style>\n",
       "<table border=\"1\" class=\"dataframe\">\n",
       "  <thead>\n",
       "    <tr style=\"text-align: right;\">\n",
       "      <th></th>\n",
       "      <th>name</th>\n",
       "      <th>region</th>\n",
       "      <th>date</th>\n",
       "      <th>value</th>\n",
       "    </tr>\n",
       "  </thead>\n",
       "  <tbody>\n",
       "    <tr>\n",
       "      <th>34438</th>\n",
       "      <td>Средняя зарплата</td>\n",
       "      <td>Россия</td>\n",
       "      <td>2015-01-15</td>\n",
       "      <td>17638</td>\n",
       "    </tr>\n",
       "    <tr>\n",
       "      <th>34439</th>\n",
       "      <td>Средняя зарплата</td>\n",
       "      <td>Россия</td>\n",
       "      <td>2015-02-15</td>\n",
       "      <td>23301</td>\n",
       "    </tr>\n",
       "    <tr>\n",
       "      <th>34440</th>\n",
       "      <td>Средняя зарплата</td>\n",
       "      <td>Россия</td>\n",
       "      <td>2015-03-15</td>\n",
       "      <td>23823</td>\n",
       "    </tr>\n",
       "    <tr>\n",
       "      <th>34441</th>\n",
       "      <td>Средняя зарплата</td>\n",
       "      <td>Россия</td>\n",
       "      <td>2015-04-15</td>\n",
       "      <td>27088</td>\n",
       "    </tr>\n",
       "    <tr>\n",
       "      <th>34442</th>\n",
       "      <td>Средняя зарплата</td>\n",
       "      <td>Россия</td>\n",
       "      <td>2015-05-15</td>\n",
       "      <td>25175</td>\n",
       "    </tr>\n",
       "  </tbody>\n",
       "</table>\n",
       "</div>"
      ],
      "text/plain": [
       "                   name  region        date  value\n",
       "34438  Средняя зарплата  Россия  2015-01-15  17638\n",
       "34439  Средняя зарплата  Россия  2015-02-15  23301\n",
       "34440  Средняя зарплата  Россия  2015-03-15  23823\n",
       "34441  Средняя зарплата  Россия  2015-04-15  27088\n",
       "34442  Средняя зарплата  Россия  2015-05-15  25175"
      ]
     },
     "execution_count": 7,
     "metadata": {},
     "output_type": "execute_result"
    }
   ],
   "source": [
    "# Определяем целевую переменную\n",
    "target_value = 'Средняя зарплата'\n",
    "target_df = data.loc[data['name'] == target_value]\n",
    "target_df.head()"
   ]
  },
  {
   "cell_type": "code",
   "execution_count": 8,
   "metadata": {},
   "outputs": [
    {
     "data": {
      "text/plain": [
       "array(['Россия', 'Алтайский край', 'Амурская область',\n",
       "       'Архангельская область', 'Астраханская область',\n",
       "       'Белгородская область', 'Брянская область', 'Владимирская область',\n",
       "       'Волгоградская область', 'Вологодская область',\n",
       "       'Воронежская область', 'Еврейская автономная область',\n",
       "       'Забайкальский край', 'Ивановская область', 'Иркутская область',\n",
       "       'Кабардино-Балкарская Республика', 'Калининградская область',\n",
       "       'Калужская область', 'Камчатский край', 'Кемеровская область',\n",
       "       'Кировская область', 'Костромская область', 'Краснодарский край',\n",
       "       'Красноярский край', 'Курганская область', 'Курская область',\n",
       "       'Ленинградская область', 'Липецкая область', 'Магаданская область',\n",
       "       'Москва', 'Московская область', 'Мурманская область',\n",
       "       'Ненецкий автономный округ', 'Нижегородская область',\n",
       "       'Новгородская область', 'Новосибирская область', 'Омская область',\n",
       "       'Оренбургская область', 'Орловская область', 'Пензенская область',\n",
       "       'Пермский край', 'Приморский край', 'Псковская область',\n",
       "       'Республика Адыгея', 'Республика Алтай (Горный Алтай)',\n",
       "       'Республика Башкортостан', 'Республика Бурятия',\n",
       "       'Республика Дагестан', 'Республика Ингушетия',\n",
       "       'Республика Калмыкия', 'Республика Карачаево-Черкессия',\n",
       "       'Республика Карелия', 'Республика Коми', 'Республика Марий Эл',\n",
       "       'Республика Мордовия', 'Республика Саха (Якутия)',\n",
       "       'Республика Северная Осетия-Алания', 'Республика Татарстан',\n",
       "       'Республика Тыва', 'Республика Хакасия', 'Ростовская область',\n",
       "       'Рязанская область', 'Самарская область', 'Санкт-Петербург',\n",
       "       'Саратовская область', 'Сахалинская область',\n",
       "       'Свердловская область', 'Смоленская область',\n",
       "       'Ставропольский край', 'Тамбовская область', 'Тверская область',\n",
       "       'Томская область', 'Тульская область', 'Тюменская область',\n",
       "       'Удмуртская Республика', 'Ульяновская область', 'Хабаровский край',\n",
       "       'Ханты-Мансийский автономный округ — Югра', 'Челябинская область',\n",
       "       'Чеченская Республика', 'Чувашская Республика',\n",
       "       'Чукотский автономный округ', 'Ямало-Ненецкий автономный округ',\n",
       "       'Ярославская область'], dtype=object)"
      ]
     },
     "execution_count": 8,
     "metadata": {},
     "output_type": "execute_result"
    }
   ],
   "source": [
    "data['region'].unique()"
   ]
  },
  {
   "cell_type": "code",
   "execution_count": 9,
   "metadata": {},
   "outputs": [
    {
     "data": {
      "text/html": [
       "<div>\n",
       "<style scoped>\n",
       "    .dataframe tbody tr th:only-of-type {\n",
       "        vertical-align: middle;\n",
       "    }\n",
       "\n",
       "    .dataframe tbody tr th {\n",
       "        vertical-align: top;\n",
       "    }\n",
       "\n",
       "    .dataframe thead th {\n",
       "        text-align: right;\n",
       "    }\n",
       "</style>\n",
       "<table border=\"1\" class=\"dataframe\">\n",
       "  <thead>\n",
       "    <tr style=\"text-align: right;\">\n",
       "      <th></th>\n",
       "      <th>name</th>\n",
       "      <th>region</th>\n",
       "      <th>date</th>\n",
       "      <th>value</th>\n",
       "    </tr>\n",
       "  </thead>\n",
       "  <tbody>\n",
       "    <tr>\n",
       "      <th>35712</th>\n",
       "      <td>Средняя зарплата</td>\n",
       "      <td>Ленинградская область</td>\n",
       "      <td>2015-01-15</td>\n",
       "      <td>14845</td>\n",
       "    </tr>\n",
       "    <tr>\n",
       "      <th>35713</th>\n",
       "      <td>Средняя зарплата</td>\n",
       "      <td>Ленинградская область</td>\n",
       "      <td>2015-02-15</td>\n",
       "      <td>17805</td>\n",
       "    </tr>\n",
       "    <tr>\n",
       "      <th>35714</th>\n",
       "      <td>Средняя зарплата</td>\n",
       "      <td>Ленинградская область</td>\n",
       "      <td>2015-03-15</td>\n",
       "      <td>20438</td>\n",
       "    </tr>\n",
       "    <tr>\n",
       "      <th>35715</th>\n",
       "      <td>Средняя зарплата</td>\n",
       "      <td>Ленинградская область</td>\n",
       "      <td>2015-04-15</td>\n",
       "      <td>21745</td>\n",
       "    </tr>\n",
       "    <tr>\n",
       "      <th>35716</th>\n",
       "      <td>Средняя зарплата</td>\n",
       "      <td>Ленинградская область</td>\n",
       "      <td>2015-05-15</td>\n",
       "      <td>24147</td>\n",
       "    </tr>\n",
       "  </tbody>\n",
       "</table>\n",
       "</div>"
      ],
      "text/plain": [
       "                   name                 region        date  value\n",
       "35712  Средняя зарплата  Ленинградская область  2015-01-15  14845\n",
       "35713  Средняя зарплата  Ленинградская область  2015-02-15  17805\n",
       "35714  Средняя зарплата  Ленинградская область  2015-03-15  20438\n",
       "35715  Средняя зарплата  Ленинградская область  2015-04-15  21745\n",
       "35716  Средняя зарплата  Ленинградская область  2015-05-15  24147"
      ]
     },
     "execution_count": 9,
     "metadata": {},
     "output_type": "execute_result"
    }
   ],
   "source": [
    "# Определяем целевой регион\n",
    "region = 'Ленинградская область'\n",
    "df = target_df.loc[target_df['region'] == region]\n",
    "df.head()"
   ]
  },
  {
   "cell_type": "code",
   "execution_count": 10,
   "metadata": {},
   "outputs": [
    {
     "data": {
      "text/plain": [
       "date\n",
       "2016-06-15    32419\n",
       "2016-07-15    30232\n",
       "2016-08-15    28477\n",
       "2016-09-15    27446\n",
       "2016-10-15    27609\n",
       "Name: salary, dtype: int64"
      ]
     },
     "execution_count": 10,
     "metadata": {},
     "output_type": "execute_result"
    }
   ],
   "source": [
    "# Определяем временной интервал\n",
    "start = '2016-06'\n",
    "end = '2019'\n",
    "\n",
    "salary = pd.Series(df['value'].tolist(), index=pd.to_datetime(df['date']), name='salary')[start:end]\n",
    "salary.head()"
   ]
  },
  {
   "cell_type": "code",
   "execution_count": 11,
   "metadata": {},
   "outputs": [
    {
     "data": {
      "image/png": "[encoded data removed]",
      "text/plain": [
       "<Figure size 1440x360 with 1 Axes>"
      ]
     },
     "metadata": {
      "needs_background": "light"
     },
     "output_type": "display_data"
    }
   ],
   "source": [
    "ax = salary.plot(label=salary.name, figsize=(20, 5))\n",
    "ax.set_xlabel('Дата')\n",
    "ax.set_ylabel('Объем')\n",
    "plt.title(f'{target_value.capitalize()} по региону {region}')\n",
    "plt.grid(True)\n",
    "plt.show()"
   ]
  },
  {
   "cell_type": "code",
   "execution_count": null,
   "metadata": {},
   "outputs": [],
   "source": []
  }
 ],
 "metadata": {
  "kernelspec": {
   "display_name": "Python 3",
   "language": "python",
   "name": "python3"
  },
  "language_info": {
   "codemirror_mode": {
    "name": "ipython",
    "version": 3
   },
   "file_extension": ".py",
   "mimetype": "text/x-python",
   "name": "python",
   "nbconvert_exporter": "python",
   "pygments_lexer": "ipython3",
   "version": "3.7.4"
  }
 },
 "nbformat": 4,
 "nbformat_minor": 2
}
